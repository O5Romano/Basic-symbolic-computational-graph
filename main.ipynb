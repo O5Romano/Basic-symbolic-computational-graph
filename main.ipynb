{
 "cells": [
  {
   "cell_type": "code",
   "execution_count": 29,
   "metadata": {},
   "outputs": [],
   "source": [
    "def Gradient(input, variable):\n",
    "    gradient = ''\n",
    "    split_1 = input.split(\"+\")\n",
    "    split_2 = []\n",
    "    for i in split_1:\n",
    "        split_2.append(i.split(\"*\"))\n",
    "    for i in split_2:\n",
    "        if variable in i:\n",
    "            i.remove(variable)\n",
    "            if len(i) == 0:\n",
    "                gradient+=\"*\".join(\"1\")\n",
    "\n",
    "            else:   \n",
    "                gradient+=\"*\".join(i)\n",
    "\n",
    "            gradient = gradient + \"+\"\n",
    "\n",
    "    if gradient[-1] == \"+\":\n",
    "        return gradient[:-1]\n",
    "    else:\n",
    "        return gradient\n",
    "    \n",
    "\n",
    "def Simplyfi(expression):\n",
    "        if len(expression)>1:\n",
    "            split_1 = expression.split(\"+\")\n",
    "            split_2 = []\n",
    "            for i in split_1:\n",
    "                split_2.append(i.split(\"*\"))\n",
    "\n",
    "        result = \"\"\n",
    "\n",
    "        for i in range(len(split_2)):\n",
    "            if all(expr == '1' for expr in split_2[i]):\n",
    "                return '1'\n",
    "            split2_holder = [k for k in split_2[i] if k != '1']\n",
    "            split_2 = split2_holder\n",
    "            for j in range(len(split_2)):\n",
    "                if len(split_2) == 1:\n",
    "                    result += split_2[j]\n",
    "                    break\n",
    "                result += split_2[j]+\"*\"\n",
    "            result += \"+\"\n",
    "\n",
    "        while result[0] == \"+\" or result[0] == \"*\":\n",
    "            result= result[1:]\n",
    "\n",
    "        while result[-1] == \"+\" or result[-1] == \"*\":\n",
    "            result= result[:-1]\n",
    "        return result"
   ]
  },
  {
   "cell_type": "code",
   "execution_count": 30,
   "metadata": {},
   "outputs": [],
   "source": [
    "class Node:\n",
    "    instances = []\n",
    "    def __init__(self, id, layer,operation, *input):\n",
    "        self.id = id\n",
    "        self.layer = layer\n",
    "        self.input = input\n",
    "        self.operation = operation\n",
    "        self.gradients = {}\n",
    "        Node.instances.append(self)\n",
    "    def Calculate(self):\n",
    "        if self.operation:\n",
    "            self.output = self.operation(self.input)\n",
    "        else:\n",
    "            self.output = self.input\n",
    "\n",
    "    def all_gradients(self):\n",
    "        for i in self.input:\n",
    "            self.gradients[i]=Gradient(self.output,i)\n",
    "\n",
    "\n",
    "    def Find_Gradient(self, variable):\n",
    "        def find_all_routes(current_node, target_layer, current_path, all_routes, initial_node):\n",
    "\n",
    "            if current_node.layer == target_layer:\n",
    "                all_routes.append(current_path)\n",
    "                return\n",
    "            for node in Node.instances:\n",
    "                if current_node.layer+1 == node.layer:\n",
    "                    if any(inpt == current_node.id for inpt in node.input):\n",
    "                        current_path.append(node)\n",
    "                        find_all_routes(node,target_layer,current_path,all_routes,initial_node)\n",
    "                        current_path = [initial_node]\n",
    "\n",
    "        initial_nodes = [node for node in Node.instances if variable in node.input and node.layer != 0]\n",
    "        all_routes = []\n",
    "        for initial_node in initial_nodes:\n",
    "            find_all_routes(initial_node, self.layer, [initial_node], all_routes, initial_node)\n",
    "\n",
    "        gradient_list = []\n",
    "        for route in all_routes:\n",
    "            gradient = \"\"\n",
    "            for k, node in enumerate(route):\n",
    "                if k == 0:\n",
    "                    gradient += node.gradients[variable]\n",
    "                else:\n",
    "                    gradient += \"*\" + route[k].gradients[route[k - 1].id]\n",
    "\n",
    "            gradient = Simplyfi(gradient)\n",
    "            gradient_list.append(gradient)\n",
    "\n",
    "        return gradient_list"
   ]
  },
  {
   "cell_type": "code",
   "execution_count": 31,
   "metadata": {},
   "outputs": [],
   "source": [
    "def Add(*input):\n",
    "    input = input[0]\n",
    "    return \"+\".join(input)\n",
    "def Multiply(*input):\n",
    "    input = input[0]\n",
    "    return \"*\".join(input)"
   ]
  },
  {
   "cell_type": "code",
   "execution_count": 32,
   "metadata": {},
   "outputs": [
    {
     "data": {
      "text/plain": [
       "<bound method Node.Calculate of <__main__.Node object at 0x0000021EE7EBABD0>>"
      ]
     },
     "execution_count": 32,
     "metadata": {},
     "output_type": "execute_result"
    }
   ],
   "source": [
    "a= Node(\"a\",0,None,\"a\")\n",
    "b = Node(\"b\",0,None,\"b\")\n",
    "c = Node(\"c\",0,None,\"c\")\n",
    "a.Calculate()\n",
    "b.Calculate()\n",
    "c.Calculate()"
   ]
  },
  {
   "cell_type": "code",
   "execution_count": 33,
   "metadata": {},
   "outputs": [],
   "source": [
    "d = Node(\"d\",1,Multiply,a.id,b.id)\n",
    "e = Node(\"e\",1,Multiply,a.id,b.id,c.id)\n",
    "f = Node(\"f\",1,Add,b.id,c.id)\n",
    "d.Calculate()\n",
    "e.Calculate()\n",
    "f.Calculate()"
   ]
  },
  {
   "cell_type": "code",
   "execution_count": 34,
   "metadata": {},
   "outputs": [],
   "source": [
    "g = Node(\"g\",2,Multiply,d.id,e.id,f.id)\n",
    "g.Calculate()"
   ]
  },
  {
   "cell_type": "code",
   "execution_count": 36,
   "metadata": {},
   "outputs": [
    {
     "data": {
      "text/plain": [
       "['a*e*f', 'a*c*d*f', 'd*e']"
      ]
     },
     "execution_count": 36,
     "metadata": {},
     "output_type": "execute_result"
    }
   ],
   "source": [
    "d.all_gradients()\n",
    "e.all_gradients()\n",
    "f.all_gradients()\n",
    "g.all_gradients()\n",
    "\n",
    "g.Find_Gradient(\"b\")"
   ]
  }
 ],
 "metadata": {
  "kernelspec": {
   "display_name": ".venv",
   "language": "python",
   "name": "python3"
  },
  "language_info": {
   "codemirror_mode": {
    "name": "ipython",
    "version": 3
   },
   "file_extension": ".py",
   "mimetype": "text/x-python",
   "name": "python",
   "nbconvert_exporter": "python",
   "pygments_lexer": "ipython3",
   "version": "3.11.9"
  }
 },
 "nbformat": 4,
 "nbformat_minor": 2
}
